{
 "cells": [
  {
   "cell_type": "markdown",
   "id": "87b3a4ef",
   "metadata": {},
   "source": [
    "# 功能说明\n",
    "\n",
    "中文文本的指标计算。\n",
    "\n",
    "- **平均句长：** 分句后，各句子字数的平均值。\n",
    "\n",
    "- **信息密度：** 实词词汇密度，即非停用词的占所有词数的比值。\n",
    "\n",
    "- **情感：** 根据情感词典计算出的情感两级分类、情感极性（积极/消极程度）、情感强度（强烈程度）。"
   ]
  },
  {
   "cell_type": "code",
   "execution_count": 11,
   "id": "1451a5d9",
   "metadata": {
    "ExecuteTime": {
     "end_time": "2022-11-28T11:12:35.739949Z",
     "start_time": "2022-11-28T11:12:35.724023Z"
    }
   },
   "outputs": [],
   "source": [
    "import re\n",
    "import numpy as np\n",
    "import jieba"
   ]
  },
  {
   "cell_type": "code",
   "execution_count": 10,
   "id": "7f07f82e",
   "metadata": {
    "ExecuteTime": {
     "end_time": "2022-11-28T09:49:05.058313Z",
     "start_time": "2022-11-28T09:49:00.577265Z"
    }
   },
   "outputs": [
    {
     "data": {
      "text/html": [
       "<div>\n",
       "<style scoped>\n",
       "    .dataframe tbody tr th:only-of-type {\n",
       "        vertical-align: middle;\n",
       "    }\n",
       "\n",
       "    .dataframe tbody tr th {\n",
       "        vertical-align: top;\n",
       "    }\n",
       "\n",
       "    .dataframe thead th {\n",
       "        text-align: right;\n",
       "    }\n",
       "</style>\n",
       "<table border=\"1\" class=\"dataframe\">\n",
       "  <thead>\n",
       "    <tr style=\"text-align: right;\">\n",
       "      <th></th>\n",
       "      <th>词语</th>\n",
       "      <th>词性种类</th>\n",
       "      <th>词义数</th>\n",
       "      <th>词义序号</th>\n",
       "      <th>情感分类</th>\n",
       "      <th>强度</th>\n",
       "      <th>极性</th>\n",
       "      <th>辅助情感分类</th>\n",
       "      <th>强度.1</th>\n",
       "      <th>极性.1</th>\n",
       "    </tr>\n",
       "  </thead>\n",
       "  <tbody>\n",
       "    <tr>\n",
       "      <th>0</th>\n",
       "      <td>脏乱</td>\n",
       "      <td>adj</td>\n",
       "      <td>1.0</td>\n",
       "      <td>1.0</td>\n",
       "      <td>NN</td>\n",
       "      <td>7</td>\n",
       "      <td>2</td>\n",
       "      <td>NaN</td>\n",
       "      <td>NaN</td>\n",
       "      <td>NaN</td>\n",
       "    </tr>\n",
       "    <tr>\n",
       "      <th>1</th>\n",
       "      <td>糟报</td>\n",
       "      <td>adj</td>\n",
       "      <td>1.0</td>\n",
       "      <td>1.0</td>\n",
       "      <td>NN</td>\n",
       "      <td>5</td>\n",
       "      <td>2</td>\n",
       "      <td>NaN</td>\n",
       "      <td>NaN</td>\n",
       "      <td>NaN</td>\n",
       "    </tr>\n",
       "    <tr>\n",
       "      <th>2</th>\n",
       "      <td>早衰</td>\n",
       "      <td>adj</td>\n",
       "      <td>1.0</td>\n",
       "      <td>1.0</td>\n",
       "      <td>NE</td>\n",
       "      <td>5</td>\n",
       "      <td>2</td>\n",
       "      <td>NaN</td>\n",
       "      <td>NaN</td>\n",
       "      <td>NaN</td>\n",
       "    </tr>\n",
       "    <tr>\n",
       "      <th>3</th>\n",
       "      <td>责备</td>\n",
       "      <td>verb</td>\n",
       "      <td>1.0</td>\n",
       "      <td>1.0</td>\n",
       "      <td>NN</td>\n",
       "      <td>5</td>\n",
       "      <td>2</td>\n",
       "      <td>NaN</td>\n",
       "      <td>NaN</td>\n",
       "      <td>NaN</td>\n",
       "    </tr>\n",
       "    <tr>\n",
       "      <th>4</th>\n",
       "      <td>贼眼</td>\n",
       "      <td>noun</td>\n",
       "      <td>1.0</td>\n",
       "      <td>1.0</td>\n",
       "      <td>NN</td>\n",
       "      <td>5</td>\n",
       "      <td>2</td>\n",
       "      <td>NaN</td>\n",
       "      <td>NaN</td>\n",
       "      <td>NaN</td>\n",
       "    </tr>\n",
       "    <tr>\n",
       "      <th>...</th>\n",
       "      <td>...</td>\n",
       "      <td>...</td>\n",
       "      <td>...</td>\n",
       "      <td>...</td>\n",
       "      <td>...</td>\n",
       "      <td>...</td>\n",
       "      <td>...</td>\n",
       "      <td>...</td>\n",
       "      <td>...</td>\n",
       "      <td>...</td>\n",
       "    </tr>\n",
       "    <tr>\n",
       "      <th>27461</th>\n",
       "      <td>增生</td>\n",
       "      <td>verb</td>\n",
       "      <td>1.0</td>\n",
       "      <td>1.0</td>\n",
       "      <td>PA</td>\n",
       "      <td>7</td>\n",
       "      <td>2</td>\n",
       "      <td>NaN</td>\n",
       "      <td>NaN</td>\n",
       "      <td>NaN</td>\n",
       "    </tr>\n",
       "    <tr>\n",
       "      <th>27462</th>\n",
       "      <td>正兒巴经</td>\n",
       "      <td>idiom</td>\n",
       "      <td>2.0</td>\n",
       "      <td>2.0</td>\n",
       "      <td>PH</td>\n",
       "      <td>5</td>\n",
       "      <td>1</td>\n",
       "      <td>NaN</td>\n",
       "      <td>NaN</td>\n",
       "      <td>NaN</td>\n",
       "    </tr>\n",
       "    <tr>\n",
       "      <th>27463</th>\n",
       "      <td>智藏瘝在</td>\n",
       "      <td>idiom</td>\n",
       "      <td>1.0</td>\n",
       "      <td>1.0</td>\n",
       "      <td>NI</td>\n",
       "      <td>7</td>\n",
       "      <td>2</td>\n",
       "      <td>NaN</td>\n",
       "      <td>NaN</td>\n",
       "      <td>NaN</td>\n",
       "    </tr>\n",
       "    <tr>\n",
       "      <th>27464</th>\n",
       "      <td>重点</td>\n",
       "      <td>noun</td>\n",
       "      <td>1.0</td>\n",
       "      <td>1.0</td>\n",
       "      <td>NI</td>\n",
       "      <td>7</td>\n",
       "      <td>0</td>\n",
       "      <td>NaN</td>\n",
       "      <td>NaN</td>\n",
       "      <td>NaN</td>\n",
       "    </tr>\n",
       "    <tr>\n",
       "      <th>27465</th>\n",
       "      <td>烛花</td>\n",
       "      <td>noun</td>\n",
       "      <td>1.0</td>\n",
       "      <td>1.0</td>\n",
       "      <td>PB</td>\n",
       "      <td>5</td>\n",
       "      <td>1</td>\n",
       "      <td>NaN</td>\n",
       "      <td>NaN</td>\n",
       "      <td>NaN</td>\n",
       "    </tr>\n",
       "  </tbody>\n",
       "</table>\n",
       "<p>27466 rows × 10 columns</p>\n",
       "</div>"
      ],
      "text/plain": [
       "         词语   词性种类  词义数  词义序号 情感分类  强度  极性 辅助情感分类  强度.1  极性.1\n",
       "0        脏乱    adj  1.0   1.0   NN   7   2    NaN   NaN   NaN\n",
       "1        糟报    adj  1.0   1.0   NN   5   2    NaN   NaN   NaN\n",
       "2        早衰    adj  1.0   1.0   NE   5   2    NaN   NaN   NaN\n",
       "3        责备   verb  1.0   1.0   NN   5   2    NaN   NaN   NaN\n",
       "4        贼眼   noun  1.0   1.0   NN   5   2    NaN   NaN   NaN\n",
       "...     ...    ...  ...   ...  ...  ..  ..    ...   ...   ...\n",
       "27461    增生   verb  1.0   1.0   PA   7   2    NaN   NaN   NaN\n",
       "27462  正兒巴经  idiom  2.0   2.0   PH   5   1    NaN   NaN   NaN\n",
       "27463  智藏瘝在  idiom  1.0   1.0   NI   7   2    NaN   NaN   NaN\n",
       "27464    重点   noun  1.0   1.0   NI   7   0    NaN   NaN   NaN\n",
       "27465    烛花   noun  1.0   1.0   PB   5   1    NaN   NaN   NaN\n",
       "\n",
       "[27466 rows x 10 columns]"
      ]
     },
     "execution_count": 10,
     "metadata": {},
     "output_type": "execute_result"
    }
   ],
   "source": [
    "# 本地使用，之后需要删除\n",
    "import pandas as pd\n",
    "sentiment_dict = pd.read_excel('情感词汇本体.xlsx')\n",
    "sentiment_dict"
   ]
  },
  {
   "cell_type": "code",
   "execution_count": 12,
   "id": "21bc039c",
   "metadata": {
    "ExecuteTime": {
     "end_time": "2022-11-28T11:12:52.465556Z",
     "start_time": "2022-11-28T11:12:52.454588Z"
    }
   },
   "outputs": [],
   "source": [
    "# 分句符号\n",
    "# 来源zhon.hanzi.sentence\n",
    "sentence_sign = '[〇一-\\u9fff㐀-\\u4dbf豈-\\ufaff𠀀-\\U0002a6df𪜀-\\U0002b73f𫝀-\\U0002b81f丽-\\U0002fa1f⼀-⿕⺀-⻳＂＃＄％＆＇（）＊＋，－／：；＜＝＞＠［＼］＾＿｀｛｜｝～｟｠｢｣､\\u3000、〃〈〉《》「」『』【】〔〕〖〗〘〙〚〛〜〝〞〟〰〾〿–—‘’‛“”„‟…‧﹏﹑﹔·]*[！？｡。][」﹂”』’》）］｝〕〗〙〛〉】]*'\n",
    "\n",
    "# 停用词表\n",
    "with open('哈工大中文停用词表.txt', 'r', encoding='utf-8') as f:\n",
    "    stopwords = f.readlines()"
   ]
  },
  {
   "cell_type": "code",
   "execution_count": null,
   "id": "0d389b7b",
   "metadata": {},
   "outputs": [],
   "source": [
    "# Broadcasting计算长度\n",
    "nplen = np.frompyfunc(len, 1, 1)\n",
    "\n",
    "# 平均句长\n",
    "def avg_sent_len(text): \n",
    "    # 删除英文\n",
    "    text_ = re.sub('[a-zA-Z]', '', text_)\n",
    "    # 分段\n",
    "    paras = text_.split('\\n')\n",
    "    sents = []\n",
    "    for para in paras:\n",
    "        # 分句\n",
    "        # 注：会忽略含英文的句子\n",
    "        sents += re.findall(sentence_sign, para)\n",
    "    # 保留汉字\n",
    "    sents_de_punc = []\n",
    "    for sent in sents:\n",
    "        sents_de_punc += [re.sub('[^\\u4e00-\\u9fff]*', '', sent)]\n",
    "    \n",
    "    return nplen(sents_de_punc).mean()"
   ]
  },
  {
   "cell_type": "code",
   "execution_count": null,
   "id": "e6442327",
   "metadata": {},
   "outputs": [],
   "source": [
    "# 信息密度\n",
    "# 以下算法在已测试算法中效率最高\n",
    "def info_den(text):\n",
    "    # 删除英文\n",
    "    text_ = re.sub('[a-zA-Z]', '', text_)\n",
    "    # 分词\n",
    "    words = jieba.lcut(text_)\n",
    "    # 实词（非停用词）\n",
    "    notions = list(filter(lambda x: False if x in stopwords else True, words))\n",
    "    \n",
    "    return len(notions) / len(words)"
   ]
  },
  {
   "cell_type": "code",
   "execution_count": null,
   "id": "82bb7747",
   "metadata": {},
   "outputs": [],
   "source": [
    "# 情感\n",
    "def sentiment(text):\n",
    "    pass"
   ]
  },
  {
   "cell_type": "code",
   "execution_count": 50,
   "id": "6ffb7b47",
   "metadata": {
    "ExecuteTime": {
     "end_time": "2022-11-28T11:53:51.723726Z",
     "start_time": "2022-11-28T11:53:35.881115Z"
    },
    "deletable": false,
    "editable": false,
    "run_control": {
     "frozen": true
    }
   },
   "outputs": [
    {
     "name": "stdout",
     "output_type": "stream",
     "text": [
      "1.0\n",
      "5.498186899998473\n",
      "1.0\n",
      "5.283755600001314\n",
      "1.0\n",
      "5.048753299999589\n"
     ]
    }
   ],
   "source": [
    "import time\n",
    "\n",
    "start = time.perf_counter()\n",
    "for i in range(50000):\n",
    "    tot = 0\n",
    "    notion = 0\n",
    "    for word in jieba.cut('哈工大中文停用词表'):\n",
    "        tot += 1\n",
    "        if word not in stopwords:\n",
    "            notion += 1\n",
    "    density = notion / tot\n",
    "print(density)\n",
    "print(time.perf_counter() - start)\n",
    "\n",
    "start = time.perf_counter()\n",
    "for i in range(50000):\n",
    "    words = jieba.lcut('哈工大中文停用词表')\n",
    "    notions = [word for word in words if word not in stopwords]\n",
    "    density = len(notions) / len(words)\n",
    "print(density)\n",
    "print(time.perf_counter() - start)\n",
    "\n",
    "start = time.perf_counter()\n",
    "for i in range(50000):\n",
    "    words = jieba.lcut('哈工大中文停用词表')\n",
    "    notions = list(filter(lambda x: False if x in stopwords else True, words))\n",
    "    density = len(notions) / len(words)\n",
    "print(density)\n",
    "print(time.perf_counter() - start)"
   ]
  }
 ],
 "metadata": {
  "kernelspec": {
   "display_name": "Python 3",
   "language": "python",
   "name": "python3"
  },
  "language_info": {
   "codemirror_mode": {
    "name": "ipython",
    "version": 3
   },
   "file_extension": ".py",
   "mimetype": "text/x-python",
   "name": "python",
   "nbconvert_exporter": "python",
   "pygments_lexer": "ipython3",
   "version": "3.8.8"
  },
  "latex_envs": {
   "LaTeX_envs_menu_present": true,
   "autoclose": false,
   "autocomplete": true,
   "bibliofile": "biblio.bib",
   "cite_by": "apalike",
   "current_citInitial": 1,
   "eqLabelWithNumbers": true,
   "eqNumInitial": 1,
   "hotkeys": {
    "equation": "Ctrl-E",
    "itemize": "Ctrl-I"
   },
   "labels_anchors": false,
   "latex_user_defs": false,
   "report_style_numbering": false,
   "user_envs_cfg": false
  },
  "toc": {
   "base_numbering": 1,
   "nav_menu": {},
   "number_sections": true,
   "sideBar": true,
   "skip_h1_title": false,
   "title_cell": "Table of Contents",
   "title_sidebar": "Contents",
   "toc_cell": false,
   "toc_position": {},
   "toc_section_display": true,
   "toc_window_display": false
  },
  "varInspector": {
   "cols": {
    "lenName": 16,
    "lenType": 16,
    "lenVar": 40
   },
   "kernels_config": {
    "python": {
     "delete_cmd_postfix": "",
     "delete_cmd_prefix": "del ",
     "library": "var_list.py",
     "varRefreshCmd": "print(var_dic_list())"
    },
    "r": {
     "delete_cmd_postfix": ") ",
     "delete_cmd_prefix": "rm(",
     "library": "var_list.r",
     "varRefreshCmd": "cat(var_dic_list()) "
    }
   },
   "types_to_exclude": [
    "module",
    "function",
    "builtin_function_or_method",
    "instance",
    "_Feature"
   ],
   "window_display": false
  }
 },
 "nbformat": 4,
 "nbformat_minor": 5
}
